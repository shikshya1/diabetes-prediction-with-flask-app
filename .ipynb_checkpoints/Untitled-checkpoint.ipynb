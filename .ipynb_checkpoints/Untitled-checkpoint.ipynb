{
 "cells": [
  {
   "cell_type": "code",
   "execution_count": 6,
   "metadata": {},
   "outputs": [],
   "source": [
    "import pandas as pd\n",
    "import numpy as np                     \n",
    "import seaborn as sns                  \n",
    "import matplotlib.pyplot as plt        \n",
    "from scipy.io import loadmat\n",
    "import warnings\n",
    "warnings.filterwarnings(\"ignore\")"
   ]
  },
  {
   "cell_type": "code",
   "execution_count": 7,
   "metadata": {},
   "outputs": [],
   "source": [
    "data_train = pd.read_csv('datafinal.csv')"
   ]
  },
  {
   "cell_type": "code",
   "execution_count": 8,
   "metadata": {},
   "outputs": [
    {
     "name": "stdout",
     "output_type": "stream",
     "text": [
      "(150, 20)\n"
     ]
    }
   ],
   "source": [
    "print(data_train.shape)"
   ]
  },
  {
   "cell_type": "code",
   "execution_count": 9,
   "metadata": {},
   "outputs": [
    {
     "name": "stdout",
     "output_type": "stream",
     "text": [
      "           Gender  Work Experience (Years)   Education  Type of project   \\\n",
      "count  150.000000                150.000000  150.00000        150.000000   \n",
      "mean     1.013333                 14.100000    1.80000          2.466667   \n",
      "std      0.115082                  6.910502    0.40134          2.074669   \n",
      "min      1.000000                  2.000000    1.00000          1.000000   \n",
      "25%      1.000000                  9.000000    2.00000          1.000000   \n",
      "50%      1.000000                 14.000000    2.00000          2.000000   \n",
      "75%      1.000000                 19.750000    2.00000          3.000000   \n",
      "max      2.000000                 30.000000    2.00000         11.000000   \n",
      "\n",
      "       Project budget (Core Npr)  Leadership  Personal Characteristics   \\\n",
      "count                 150.000000  150.000000                 150.000000   \n",
      "mean                   41.952067    1.460000                   1.380000   \n",
      "std                    29.314161    0.526225                   0.500604   \n",
      "min                     2.850000    1.000000                   1.000000   \n",
      "25%                    18.000000    1.000000                   1.000000   \n",
      "50%                    34.000000    1.000000                   1.000000   \n",
      "75%                    66.750000    2.000000                   2.000000   \n",
      "max                   100.000000    3.000000                   3.000000   \n",
      "\n",
      "       Team Development & Delegation   Communication Skills   \\\n",
      "count                      150.000000             150.000000   \n",
      "mean                         1.540000               1.506667   \n",
      "std                          0.563188               0.621177   \n",
      "min                          1.000000               1.000000   \n",
      "25%                          1.000000               1.000000   \n",
      "50%                          2.000000               1.000000   \n",
      "75%                          2.000000               2.000000   \n",
      "max                          3.000000               3.000000   \n",
      "\n",
      "       Technical Skills  Planning Skills  Organizational Skills   \\\n",
      "count        150.000000       150.000000              150.000000   \n",
      "mean           1.533333         1.666667                1.580000   \n",
      "std            0.575410         0.586957                0.570764   \n",
      "min            1.000000         1.000000                1.000000   \n",
      "25%            1.000000         1.000000                1.000000   \n",
      "50%            1.000000         2.000000                2.000000   \n",
      "75%            2.000000         2.000000                2.000000   \n",
      "max            3.000000         3.000000                3.000000   \n",
      "\n",
      "       Decision Making Skills  Analytical Abilities  \\\n",
      "count              150.000000            150.000000   \n",
      "mean                 1.693333              1.653333   \n",
      "std                  0.601415              0.634433   \n",
      "min                  1.000000              1.000000   \n",
      "25%                  1.000000              1.000000   \n",
      "50%                  2.000000              2.000000   \n",
      "75%                  2.000000              2.000000   \n",
      "max                  3.000000              3.000000   \n",
      "\n",
      "       Problem Solving/Coping With Siutation  \\\n",
      "count                             150.000000   \n",
      "mean                                1.513333   \n",
      "std                                 0.587757   \n",
      "min                                 1.000000   \n",
      "25%                                 1.000000   \n",
      "50%                                 1.000000   \n",
      "75%                                 2.000000   \n",
      "max                                 3.000000   \n",
      "\n",
      "       Stakeholder/Relationship Management  Cost Management   \\\n",
      "count                           150.000000        150.000000   \n",
      "mean                              1.580000          1.713333   \n",
      "std                               0.647867          0.627520   \n",
      "min                               1.000000          1.000000   \n",
      "25%                               1.000000          1.000000   \n",
      "50%                               1.000000          2.000000   \n",
      "75%                               2.000000          2.000000   \n",
      "max                               3.000000          3.000000   \n",
      "\n",
      "       Time Management   Health & Safety Knowledge   Overall Competency   \n",
      "count        150.000000                  150.000000           150.000000  \n",
      "mean           1.620000                    1.753333             2.153333  \n",
      "std            0.631075                    0.674926             0.621069  \n",
      "min            1.000000                    1.000000             1.000000  \n",
      "25%            1.000000                    1.000000             2.000000  \n",
      "50%            2.000000                    2.000000             2.000000  \n",
      "75%            2.000000                    2.000000             3.000000  \n",
      "max            3.000000                    3.000000             3.000000  \n"
     ]
    }
   ],
   "source": [
    "print(data_train.describe())"
   ]
  },
  {
   "cell_type": "code",
   "execution_count": 10,
   "metadata": {},
   "outputs": [
    {
     "name": "stdout",
     "output_type": "stream",
     "text": [
      "Missing values for train data \n",
      " ------------------------\n",
      " Gender                                   0\n",
      "Work Experience (Years)                  0\n",
      "Education                                0\n",
      "Type of project                          0\n",
      "Project budget (Core Npr)                0\n",
      "Leadership                               0\n",
      "Personal Characteristics                 0\n",
      "Team Development & Delegation            0\n",
      "Communication Skills                     0\n",
      "Technical Skills                         0\n",
      "Planning Skills                          0\n",
      "Organizational Skills                    0\n",
      "Decision Making Skills                   0\n",
      "Analytical Abilities                     0\n",
      "Problem Solving/Coping With Siutation    0\n",
      "Stakeholder/Relationship Management      0\n",
      "Cost Management                          0\n",
      "Time Management                          0\n",
      "Health & Safety Knowledge                0\n",
      "Overall Competency                       0\n",
      "dtype: int64\n"
     ]
    }
   ],
   "source": [
    "print('Missing values for train data \\n ------------------------\\n', data_train.isnull().sum())"
   ]
  },
  {
   "cell_type": "code",
   "execution_count": 11,
   "metadata": {},
   "outputs": [
    {
     "name": "stdout",
     "output_type": "stream",
     "text": [
      "   Gender  Work Experience (Years)   Education  Type of project   \\\n",
      "0       1                        15          1                11   \n",
      "1       1                        14          2                 1   \n",
      "2       1                        30          1                 2   \n",
      "3       1                         6          2                 2   \n",
      "4       1                        11          2                 2   \n",
      "\n",
      "   Project budget (Core Npr)  Leadership  Personal Characteristics   \\\n",
      "0                       70.0           1                          2   \n",
      "1                      100.0           2                          1   \n",
      "2                       12.0           2                          2   \n",
      "3                       11.0           2                          1   \n",
      "4                       37.0           1                          1   \n",
      "\n",
      "   Team Development & Delegation   Communication Skills   Technical Skills  \\\n",
      "0                               2                      2                 1   \n",
      "1                               2                      1                 1   \n",
      "2                               2                      3                 2   \n",
      "3                               2                      2                 2   \n",
      "4                               1                      1                 2   \n",
      "\n",
      "   Planning Skills  Organizational Skills   Decision Making Skills  \\\n",
      "0                2                       1                       2   \n",
      "1                2                       2                       2   \n",
      "2                2                       2                       3   \n",
      "3                2                       1                       2   \n",
      "4                1                       2                       1   \n",
      "\n",
      "   Analytical Abilities  Problem Solving/Coping With Siutation  \\\n",
      "0                     1                                      1   \n",
      "1                     2                                      2   \n",
      "2                     2                                      3   \n",
      "3                     1                                      2   \n",
      "4                     1                                      1   \n",
      "\n",
      "   Stakeholder/Relationship Management  Cost Management   Time Management   \\\n",
      "0                                    2                 2                 1   \n",
      "1                                    2                 1                 2   \n",
      "2                                    3                 2                 2   \n",
      "3                                    1                 2                 2   \n",
      "4                                    2                 1                 1   \n",
      "\n",
      "   Health & Safety Knowledge   Overall Competency   \n",
      "0                           2                    2  \n",
      "1                           2                    2  \n",
      "2                           3                    1  \n",
      "3                           3                    2  \n",
      "4                           2                    3  \n"
     ]
    }
   ],
   "source": [
    "print(data_train.head())"
   ]
  },
  {
   "cell_type": "code",
   "execution_count": 12,
   "metadata": {},
   "outputs": [],
   "source": [
    "X = data_train.iloc[:,:-1]\n",
    "y = data_train.iloc[:, -1]"
   ]
  },
  {
   "cell_type": "code",
   "execution_count": 13,
   "metadata": {},
   "outputs": [
    {
     "name": "stdout",
     "output_type": "stream",
     "text": [
      "[0.01184279 0.01458145 0.00385044 0.01528952 0.03070406 0.09847512\n",
      " 0.02937475 0.05366895 0.01551524 0.01687153 0.03545821 0.04920999\n",
      " 0.01188352 0.02459404 0.04454936 0.03472228 0.10065467 0.34067239\n",
      " 0.06808166]\n"
     ]
    },
    {
     "data": {
      "image/png": "[encoded data removed]",
      "text/plain": [
       "<Figure size 432x288 with 1 Axes>"
      ]
     },
     "metadata": {
      "needs_background": "light"
     },
     "output_type": "display_data"
    }
   ],
   "source": [
    "### Feature Importance\n",
    "\n",
    "from sklearn.ensemble import ExtraTreesRegressor\n",
    "import matplotlib.pyplot as plt\n",
    "model = ExtraTreesRegressor()\n",
    "model.fit(X,y)\n",
    "\n",
    "print(model.feature_importances_)\n",
    "\n",
    "\n",
    "#plot graph of feature importances for better visualization\n",
    "feat_importances = pd.Series(model.feature_importances_, index=X.columns)\n",
    "feat_importances.nlargest(5).plot(kind='barh')\n",
    "plt.show()"
   ]
  },
  {
   "cell_type": "code",
   "execution_count": 14,
   "metadata": {},
   "outputs": [],
   "source": [
    "from sklearn.model_selection import train_test_split"
   ]
  },
  {
   "cell_type": "code",
   "execution_count": 15,
   "metadata": {},
   "outputs": [],
   "source": [
    "X_train,X_test,y_train,y_test=train_test_split(X,y,test_size=0.2)"
   ]
  },
  {
   "cell_type": "code",
   "execution_count": 16,
   "metadata": {},
   "outputs": [],
   "source": [
    "from sklearn import svm\n",
    "from sklearn.svm import SVC\n",
    "# Check Accuracy \n",
    "from sklearn.metrics import accuracy_score"
   ]
  },
  {
   "cell_type": "code",
   "execution_count": 17,
   "metadata": {},
   "outputs": [],
   "source": [
    "# Feature Scaling\n",
    "from sklearn.preprocessing import StandardScaler\n",
    "sc = StandardScaler()\n",
    "X_train = sc.fit_transform(X_train)\n",
    "X_test = sc.fit_transform(X_test)"
   ]
  },
  {
   "cell_type": "code",
   "execution_count": 36,
   "metadata": {},
   "outputs": [
    {
     "data": {
      "text/plain": [
       "LogisticRegression(random_state=3)"
      ]
     },
     "execution_count": 36,
     "metadata": {},
     "output_type": "execute_result"
    }
   ],
   "source": [
    "# Fitting Logistic Regression to our training set\n",
    "from sklearn.linear_model import LogisticRegression\n",
    "classifier = LogisticRegression(random_state=3)\n",
    "classifier.fit(X_train, y_train)"
   ]
  },
  {
   "cell_type": "code",
   "execution_count": 37,
   "metadata": {},
   "outputs": [
    {
     "name": "stdout",
     "output_type": "stream",
     "text": [
      "[3 3 1 3 3 2 3 1 1 3 1 1 3 3 3 3 3 1 2 3 2 1 3 3 3 2 2 2 2 3]\n",
      "Accuracy Logistic regression:  0.4666666666666667\n"
     ]
    }
   ],
   "source": [
    "# Predecting the results\n",
    "y_pred = classifier.predict(X_test)\n",
    "print(y_pred)\n",
    "\n",
    "# Check Accuracy \n",
    "from sklearn.metrics import accuracy_score\n",
    "print('Accuracy Logistic regression: ', accuracy_score(y_test,y_pred))"
   ]
  },
  {
   "cell_type": "code",
   "execution_count": 38,
   "metadata": {},
   "outputs": [
    {
     "data": {
      "text/plain": [
       "<matplotlib.axes._subplots.AxesSubplot at 0x244c682df60>"
      ]
     },
     "execution_count": 38,
     "metadata": {},
     "output_type": "execute_result"
    },
    {
     "data": {
      "image/png": "[encoded data removed]",
      "text/plain": [
       "<Figure size 432x288 with 1 Axes>"
      ]
     },
     "metadata": {
      "needs_background": "light"
     },
     "output_type": "display_data"
    }
   ],
   "source": [
    "\n",
    "import seaborn as sns\n",
    "\n",
    "sns.distplot(y_test-y_pred)\n"
   ]
  },
  {
   "cell_type": "code",
   "execution_count": null,
   "metadata": {},
   "outputs": [],
   "source": []
  }
 ],
 "metadata": {
  "kernelspec": {
   "display_name": "Python 3",
   "language": "python",
   "name": "python3"
  },
  "language_info": {
   "codemirror_mode": {
    "name": "ipython",
    "version": 3
   },
   "file_extension": ".py",
   "mimetype": "text/x-python",
   "name": "python",
   "nbconvert_exporter": "python",
   "pygments_lexer": "ipython3",
   "version": "3.6.8"
  }
 },
 "nbformat": 4,
 "nbformat_minor": 2
}
